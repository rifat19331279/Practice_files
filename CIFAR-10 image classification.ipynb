{
 "cells": [
  {
   "cell_type": "code",
   "execution_count": 3,
   "metadata": {},
   "outputs": [],
   "source": [
    "import tensorflow as tf\n",
    "from tensorflow.keras import layers, models, datasets\n",
    "import matplotlib.pyplot as plt\n",
    "import numpy as np"
   ]
  },
  {
   "cell_type": "code",
   "execution_count": 4,
   "metadata": {},
   "outputs": [
    {
     "name": "stdout",
     "output_type": "stream",
     "text": [
      "Downloading data from https://www.cs.toronto.edu/~kriz/cifar-10-python.tar.gz\n",
      "170500096/170498071 [==============================] - 203s 1us/step\n"
     ]
    },
    {
     "data": {
      "text/plain": [
       "(50000, 32, 32, 3)"
      ]
     },
     "execution_count": 4,
     "metadata": {},
     "output_type": "execute_result"
    }
   ],
   "source": [
    "(X_train, y_train), (X_test, y_test)= datasets.cifar10.load_data()\n",
    "X_train.shape"
   ]
  },
  {
   "cell_type": "code",
   "execution_count": 6,
   "metadata": {},
   "outputs": [
    {
     "data": {
      "text/plain": [
       "(10000, 32, 32, 3)"
      ]
     },
     "execution_count": 6,
     "metadata": {},
     "output_type": "execute_result"
    }
   ],
   "source": [
    "X_test.shape"
   ]
  },
  {
   "cell_type": "code",
   "execution_count": 7,
   "metadata": {},
   "outputs": [
    {
     "data": {
      "text/plain": [
       "array([[[ 59,  62,  63],\n",
       "        [ 43,  46,  45],\n",
       "        [ 50,  48,  43],\n",
       "        ...,\n",
       "        [158, 132, 108],\n",
       "        [152, 125, 102],\n",
       "        [148, 124, 103]],\n",
       "\n",
       "       [[ 16,  20,  20],\n",
       "        [  0,   0,   0],\n",
       "        [ 18,   8,   0],\n",
       "        ...,\n",
       "        [123,  88,  55],\n",
       "        [119,  83,  50],\n",
       "        [122,  87,  57]],\n",
       "\n",
       "       [[ 25,  24,  21],\n",
       "        [ 16,   7,   0],\n",
       "        [ 49,  27,   8],\n",
       "        ...,\n",
       "        [118,  84,  50],\n",
       "        [120,  84,  50],\n",
       "        [109,  73,  42]],\n",
       "\n",
       "       ...,\n",
       "\n",
       "       [[208, 170,  96],\n",
       "        [201, 153,  34],\n",
       "        [198, 161,  26],\n",
       "        ...,\n",
       "        [160, 133,  70],\n",
       "        [ 56,  31,   7],\n",
       "        [ 53,  34,  20]],\n",
       "\n",
       "       [[180, 139,  96],\n",
       "        [173, 123,  42],\n",
       "        [186, 144,  30],\n",
       "        ...,\n",
       "        [184, 148,  94],\n",
       "        [ 97,  62,  34],\n",
       "        [ 83,  53,  34]],\n",
       "\n",
       "       [[177, 144, 116],\n",
       "        [168, 129,  94],\n",
       "        [179, 142,  87],\n",
       "        ...,\n",
       "        [216, 184, 140],\n",
       "        [151, 118,  84],\n",
       "        [123,  92,  72]]], dtype=uint8)"
      ]
     },
     "execution_count": 7,
     "metadata": {},
     "output_type": "execute_result"
    }
   ],
   "source": [
    "X_train[0]"
   ]
  },
  {
   "cell_type": "code",
   "execution_count": 12,
   "metadata": {},
   "outputs": [
    {
     "data": {
      "text/plain": [
       "<matplotlib.image.AxesImage at 0x272fab5e970>"
      ]
     },
     "execution_count": 12,
     "metadata": {},
     "output_type": "execute_result"
    },
    {
     "data": {
      "image/png": "[encoded data removed]",
      "text/plain": [
       "<Figure size 1080x144 with 1 Axes>"
      ]
     },
     "metadata": {
      "needs_background": "light"
     },
     "output_type": "display_data"
    }
   ],
   "source": [
    "plt.figure(figsize=(15,2))\n",
    "plt.imshow(X_train[0])"
   ]
  },
  {
   "cell_type": "code",
   "execution_count": 13,
   "metadata": {},
   "outputs": [
    {
     "data": {
      "text/plain": [
       "<matplotlib.image.AxesImage at 0x272fa8f6190>"
      ]
     },
     "execution_count": 13,
     "metadata": {},
     "output_type": "execute_result"
    },
    {
     "data": {
      "image/png": "[encoded data removed]",
      "text/plain": [
       "<Figure size 1080x144 with 1 Axes>"
      ]
     },
     "metadata": {
      "needs_background": "light"
     },
     "output_type": "display_data"
    }
   ],
   "source": [
    "plt.figure(figsize=(15,2))\n",
    "plt.imshow(X_train[1])"
   ]
  },
  {
   "cell_type": "code",
   "execution_count": 14,
   "metadata": {},
   "outputs": [
    {
     "data": {
      "text/plain": [
       "(50000, 1)"
      ]
     },
     "execution_count": 14,
     "metadata": {},
     "output_type": "execute_result"
    }
   ],
   "source": [
    "y_train.shape"
   ]
  },
  {
   "cell_type": "code",
   "execution_count": 18,
   "metadata": {},
   "outputs": [
    {
     "data": {
      "text/plain": [
       "array([[6],\n",
       "       [9],\n",
       "       [9],\n",
       "       [4],\n",
       "       [1]], dtype=uint8)"
      ]
     },
     "execution_count": 18,
     "metadata": {},
     "output_type": "execute_result"
    }
   ],
   "source": [
    "y_train[:5]"
   ]
  },
  {
   "cell_type": "code",
   "execution_count": 23,
   "metadata": {},
   "outputs": [
    {
     "data": {
      "text/plain": [
       "array([6, 9, 9, ..., 9, 1, 1], dtype=uint8)"
      ]
     },
     "execution_count": 23,
     "metadata": {},
     "output_type": "execute_result"
    }
   ],
   "source": [
    "y_train= y_train.reshape(-1,)\n",
    "y_train"
   ]
  },
  {
   "cell_type": "code",
   "execution_count": 24,
   "metadata": {},
   "outputs": [],
   "source": [
    "classes=['airplane','automobile','bird', 'cat', 'deer', 'dog', 'frog', 'horse', 'ship', 'truck']"
   ]
  },
  {
   "cell_type": "code",
   "execution_count": 28,
   "metadata": {},
   "outputs": [
    {
     "data": {
      "text/plain": [
       "'bird'"
      ]
     },
     "execution_count": 28,
     "metadata": {},
     "output_type": "execute_result"
    }
   ],
   "source": [
    "classes[2]"
   ]
  },
  {
   "cell_type": "code",
   "execution_count": 29,
   "metadata": {},
   "outputs": [],
   "source": [
    "def plot_sample(X, y, index):\n",
    "    plt.figure(figsize=(15,2))\n",
    "    plt.imshow(X[index])\n",
    "    plt.xlabel(classes[y[index]])"
   ]
  },
  {
   "cell_type": "code",
   "execution_count": 31,
   "metadata": {},
   "outputs": [
    {
     "data": {
      "image/png": "[encoded data removed]",
      "text/plain": [
       "<Figure size 1080x144 with 1 Axes>"
      ]
     },
     "metadata": {
      "needs_background": "light"
     },
     "output_type": "display_data"
    }
   ],
   "source": [
    "plot_sample(X_train, y_train, 2)"
   ]
  },
  {
   "cell_type": "code",
   "execution_count": 32,
   "metadata": {},
   "outputs": [
    {
     "data": {
      "image/png": "[encoded data removed]",
      "text/plain": [
       "<Figure size 1080x144 with 1 Axes>"
      ]
     },
     "metadata": {
      "needs_background": "light"
     },
     "output_type": "display_data"
    }
   ],
   "source": [
    "plot_sample(X_train, y_train, 5)"
   ]
  },
  {
   "cell_type": "code",
   "execution_count": 33,
   "metadata": {},
   "outputs": [
    {
     "data": {
      "image/png": "[encoded data removed]",
      "text/plain": [
       "<Figure size 1080x144 with 1 Axes>"
      ]
     },
     "metadata": {
      "needs_background": "light"
     },
     "output_type": "display_data"
    }
   ],
   "source": [
    "plot_sample(X_train, y_train, 4)"
   ]
  },
  {
   "cell_type": "code",
   "execution_count": 34,
   "metadata": {},
   "outputs": [
    {
     "data": {
      "image/png": "[encoded data removed]",
      "text/plain": [
       "<Figure size 1080x144 with 1 Axes>"
      ]
     },
     "metadata": {
      "needs_background": "light"
     },
     "output_type": "display_data"
    }
   ],
   "source": [
    "plot_sample(X_train, y_train, 12)"
   ]
  },
  {
   "cell_type": "code",
   "execution_count": 37,
   "metadata": {},
   "outputs": [
    {
     "data": {
      "text/plain": [
       "array([[[[0.00090734, 0.00095348, 0.00096886],\n",
       "         [0.00066128, 0.00070742, 0.00069204],\n",
       "         [0.00076894, 0.00073818, 0.00066128],\n",
       "         ...,\n",
       "         [0.00242983, 0.00202999, 0.0016609 ],\n",
       "         [0.00233756, 0.00192234, 0.00156863],\n",
       "         [0.00227605, 0.00190696, 0.00158401]],\n",
       "\n",
       "        [[0.00024606, 0.00030757, 0.00030757],\n",
       "         [0.        , 0.        , 0.        ],\n",
       "         [0.00027682, 0.00012303, 0.        ],\n",
       "         ...,\n",
       "         [0.00189158, 0.00135333, 0.00084583],\n",
       "         [0.00183007, 0.00127643, 0.00076894],\n",
       "         [0.0018762 , 0.00133795, 0.00087659]],\n",
       "\n",
       "        [[0.00038447, 0.00036909, 0.00032295],\n",
       "         [0.00024606, 0.00010765, 0.        ],\n",
       "         [0.00075356, 0.00041522, 0.00012303],\n",
       "         ...,\n",
       "         [0.00181469, 0.00129181, 0.00076894],\n",
       "         [0.00184544, 0.00129181, 0.00076894],\n",
       "         [0.00167628, 0.00112265, 0.00064591]],\n",
       "\n",
       "        ...,\n",
       "\n",
       "        [[0.00319877, 0.00261438, 0.00147636],\n",
       "         [0.00309112, 0.00235294, 0.00052288],\n",
       "         [0.00304498, 0.00247597, 0.00039985],\n",
       "         ...,\n",
       "         [0.00246059, 0.00204537, 0.00107651],\n",
       "         [0.00086121, 0.00047674, 0.00010765],\n",
       "         [0.00081507, 0.00052288, 0.00030757]],\n",
       "\n",
       "        [[0.00276817, 0.00213764, 0.00147636],\n",
       "         [0.00266052, 0.00189158, 0.00064591],\n",
       "         [0.00286044, 0.00221453, 0.00046136],\n",
       "         ...,\n",
       "         [0.00282968, 0.00227605, 0.0014456 ],\n",
       "         [0.00149173, 0.00095348, 0.00052288],\n",
       "         [0.00127643, 0.00081507, 0.00052288]],\n",
       "\n",
       "        [[0.00272203, 0.00221453, 0.00178393],\n",
       "         [0.00258362, 0.00198385, 0.0014456 ],\n",
       "         [0.00275279, 0.00218378, 0.00133795],\n",
       "         ...,\n",
       "         [0.0033218 , 0.00282968, 0.00215302],\n",
       "         [0.00232218, 0.00181469, 0.00129181],\n",
       "         [0.00189158, 0.00141484, 0.00110727]]],\n",
       "\n",
       "\n",
       "       [[[0.00236832, 0.00272203, 0.00287582],\n",
       "         [0.00193772, 0.00210688, 0.0020915 ],\n",
       "         [0.00161476, 0.00159938, 0.00146098],\n",
       "         ...,\n",
       "         [0.00139946, 0.00146098, 0.00109189],\n",
       "         [0.00133795, 0.00138408, 0.00109189],\n",
       "         [0.00121492, 0.00124567, 0.00107651]],\n",
       "\n",
       "        [[0.00215302, 0.00246059, 0.002599  ],\n",
       "         [0.00222991, 0.00235294, 0.00236832],\n",
       "         [0.00192234, 0.00192234, 0.00181469],\n",
       "         ...,\n",
       "         [0.00147636, 0.00152249, 0.00119954],\n",
       "         [0.00118416, 0.0012303 , 0.00095348],\n",
       "         [0.00109189, 0.00112265, 0.0009381 ]],\n",
       "\n",
       "        [[0.00215302, 0.0023837 , 0.00252211],\n",
       "         [0.00213764, 0.00224529, 0.00229143],\n",
       "         [0.00176855, 0.00176855, 0.00172241],\n",
       "         ...,\n",
       "         [0.00121492, 0.00126105, 0.00098424],\n",
       "         [0.00104575, 0.00107651, 0.00084583],\n",
       "         [0.00103037, 0.00106113, 0.00084583]],\n",
       "\n",
       "        ...,\n",
       "\n",
       "        [[0.00269127, 0.00256824, 0.00255286],\n",
       "         [0.00239908, 0.00236832, 0.00246059],\n",
       "         [0.00236832, 0.00246059, 0.00261438],\n",
       "         ...,\n",
       "         [0.00064591, 0.00052288, 0.00055363],\n",
       "         [0.0009381 , 0.00081507, 0.00087659],\n",
       "         [0.00143022, 0.00127643, 0.00139946]],\n",
       "\n",
       "        [[0.00253749, 0.00236832, 0.00196847],\n",
       "         [0.00239908, 0.00233756, 0.00199923],\n",
       "         [0.00244521, 0.00247597, 0.00218378],\n",
       "         ...,\n",
       "         [0.00158401, 0.00143022, 0.00147636],\n",
       "         [0.00189158, 0.00175317, 0.00184544],\n",
       "         [0.00201461, 0.00186082, 0.00201461]],\n",
       "\n",
       "        [[0.00250673, 0.00227605, 0.00184544],\n",
       "         [0.00242983, 0.00227605, 0.0018762 ],\n",
       "         [0.00250673, 0.00239908, 0.00204537],\n",
       "         ...,\n",
       "         [0.00219915, 0.00204537, 0.00213764],\n",
       "         [0.00219915, 0.00206075, 0.00218378],\n",
       "         [0.00219915, 0.00204537, 0.00221453]]],\n",
       "\n",
       "\n",
       "       [[[0.00392157, 0.00392157, 0.00392157],\n",
       "         [0.00389081, 0.00389081, 0.00389081],\n",
       "         [0.00389081, 0.00389081, 0.00389081],\n",
       "         ...,\n",
       "         [0.00389081, 0.00389081, 0.00389081],\n",
       "         [0.00389081, 0.00389081, 0.00389081],\n",
       "         [0.00389081, 0.00389081, 0.00389081]],\n",
       "\n",
       "        [[0.00392157, 0.00392157, 0.00392157],\n",
       "         [0.00392157, 0.00392157, 0.00392157],\n",
       "         [0.00392157, 0.00392157, 0.00392157],\n",
       "         ...,\n",
       "         [0.00392157, 0.00392157, 0.00392157],\n",
       "         [0.00392157, 0.00392157, 0.00392157],\n",
       "         [0.00392157, 0.00392157, 0.00392157]],\n",
       "\n",
       "        [[0.00392157, 0.00392157, 0.00392157],\n",
       "         [0.00390619, 0.00390619, 0.00390619],\n",
       "         [0.00390619, 0.00390619, 0.00390619],\n",
       "         ...,\n",
       "         [0.00390619, 0.00390619, 0.00390619],\n",
       "         [0.00390619, 0.00390619, 0.00390619],\n",
       "         [0.00390619, 0.00390619, 0.00390619]],\n",
       "\n",
       "        ...,\n",
       "\n",
       "        [[0.00173779, 0.00184544, 0.00172241],\n",
       "         [0.00170704, 0.00181469, 0.00170704],\n",
       "         [0.00161476, 0.00172241, 0.00163014],\n",
       "         ...,\n",
       "         [0.00110727, 0.00124567, 0.0012303 ],\n",
       "         [0.00110727, 0.0012303 , 0.00121492],\n",
       "         [0.00110727, 0.0012303 , 0.00121492]],\n",
       "\n",
       "        [[0.00170704, 0.00181469, 0.00169166],\n",
       "         [0.00159938, 0.00170704, 0.00159938],\n",
       "         [0.00152249, 0.00163014, 0.00150711],\n",
       "         ...,\n",
       "         [0.00104575, 0.0011534 , 0.00112265],\n",
       "         [0.00107651, 0.00116878, 0.0011534 ],\n",
       "         [0.00119954, 0.00129181, 0.00126105]],\n",
       "\n",
       "        [[0.00163014, 0.00173779, 0.00161476],\n",
       "         [0.00152249, 0.00163014, 0.00150711],\n",
       "         [0.00146098, 0.00156863, 0.0014456 ],\n",
       "         ...,\n",
       "         [0.00119954, 0.00130719, 0.00127643],\n",
       "         [0.00121492, 0.00130719, 0.00127643],\n",
       "         [0.0012303 , 0.00132257, 0.00129181]]],\n",
       "\n",
       "\n",
       "       ...,\n",
       "\n",
       "\n",
       "       [[[0.00053825, 0.00273741, 0.00361399],\n",
       "         [0.00061515, 0.00270665, 0.00367551],\n",
       "         [0.00064591, 0.00270665, 0.00370627],\n",
       "         ...,\n",
       "         [0.00152249, 0.00272203, 0.00336794],\n",
       "         [0.00121492, 0.00226067, 0.0030296 ],\n",
       "         [0.0013687 , 0.00227605, 0.00290657]],\n",
       "\n",
       "        [[0.00087659, 0.00279892, 0.00359862],\n",
       "         [0.00067666, 0.00282968, 0.00384468],\n",
       "         [0.00076894, 0.0028143 , 0.00369089],\n",
       "         ...,\n",
       "         [0.00239908, 0.00279892, 0.00307574],\n",
       "         [0.0021684 , 0.00272203, 0.00316801],\n",
       "         [0.00178393, 0.00229143, 0.00269127]],\n",
       "\n",
       "        [[0.00150711, 0.0030296 , 0.00364475],\n",
       "         [0.00098424, 0.00290657, 0.00387543],\n",
       "         [0.00106113, 0.00295271, 0.00376778],\n",
       "         ...,\n",
       "         [0.0028912 , 0.00299885, 0.00316801],\n",
       "         [0.00183007, 0.00207612, 0.00226067],\n",
       "         [0.0009381 , 0.00121492, 0.00138408]],\n",
       "\n",
       "        ...,\n",
       "\n",
       "        [[0.00112265, 0.00121492, 0.00118416],\n",
       "         [0.00081507, 0.00096886, 0.00104575],\n",
       "         [0.00083045, 0.00104575, 0.0012303 ],\n",
       "         ...,\n",
       "         [0.00026144, 0.00061515, 0.00098424],\n",
       "         [0.00032295, 0.00055363, 0.00078431],\n",
       "         [0.0005075 , 0.00073818, 0.00075356]],\n",
       "\n",
       "        [[0.0009381 , 0.00104575, 0.0011534 ],\n",
       "         [0.00084583, 0.00107651, 0.00132257],\n",
       "         [0.00087659, 0.00121492, 0.00158401],\n",
       "         ...,\n",
       "         [0.00036909, 0.00073818, 0.00110727],\n",
       "         [0.00026144, 0.00053825, 0.00081507],\n",
       "         [0.00010765, 0.00035371, 0.00049212]],\n",
       "\n",
       "        [[0.00067666, 0.00086121, 0.00112265],\n",
       "         [0.00070742, 0.00101499, 0.00135333],\n",
       "         [0.00075356, 0.00118416, 0.00161476],\n",
       "         ...,\n",
       "         [0.00041522, 0.00079969, 0.00118416],\n",
       "         [0.00032295, 0.00066128, 0.00101499],\n",
       "         [0.00018454, 0.00047674, 0.00076894]]],\n",
       "\n",
       "\n",
       "       [[[0.00290657, 0.00324491, 0.00369089],\n",
       "         [0.00286044, 0.00319877, 0.00362937],\n",
       "         [0.00284506, 0.00318339, 0.00361399],\n",
       "         ...,\n",
       "         [0.00269127, 0.00299885, 0.00344483],\n",
       "         [0.00264514, 0.00298347, 0.00341407],\n",
       "         [0.002599  , 0.00298347, 0.00338331]],\n",
       "\n",
       "        [[0.00298347, 0.00322953, 0.00367551],\n",
       "         [0.00293733, 0.00318339, 0.00362937],\n",
       "         [0.00292195, 0.00316801, 0.00361399],\n",
       "         ...,\n",
       "         [0.00266052, 0.00295271, 0.00338331],\n",
       "         [0.00262976, 0.00293733, 0.00335256],\n",
       "         [0.00256824, 0.00292195, 0.0033218 ]],\n",
       "\n",
       "        [[0.00319877, 0.00336794, 0.0037524 ],\n",
       "         [0.00315263, 0.0033218 , 0.00369089],\n",
       "         [0.00313725, 0.00330642, 0.00367551],\n",
       "         ...,\n",
       "         [0.00269127, 0.00293733, 0.00333718],\n",
       "         [0.00264514, 0.00292195, 0.0033218 ],\n",
       "         [0.002599  , 0.00293733, 0.00330642]],\n",
       "\n",
       "        ...,\n",
       "\n",
       "        [[0.00318339, 0.00306036, 0.00278354],\n",
       "         [0.00312188, 0.00299885, 0.00269127],\n",
       "         [0.00312188, 0.00301423, 0.00266052],\n",
       "         ...,\n",
       "         [0.00207612, 0.00202999, 0.00195309],\n",
       "         [0.00249135, 0.00242983, 0.00230681],\n",
       "         [0.00258362, 0.00250673, 0.00232218]],\n",
       "\n",
       "        [[0.00304498, 0.00292195, 0.00261438],\n",
       "         [0.00290657, 0.00278354, 0.00244521],\n",
       "         [0.00276817, 0.00264514, 0.00226067],\n",
       "         ...,\n",
       "         [0.00273741, 0.00262976, 0.00246059],\n",
       "         [0.00269127, 0.002599  , 0.00239908],\n",
       "         [0.00269127, 0.002599  , 0.00236832]],\n",
       "\n",
       "        [[0.00304498, 0.00290657, 0.00266052],\n",
       "         [0.00290657, 0.00278354, 0.00249135],\n",
       "         [0.00273741, 0.00261438, 0.00229143],\n",
       "         ...,\n",
       "         [0.00299885, 0.00282968, 0.002599  ],\n",
       "         [0.00301423, 0.00290657, 0.00262976],\n",
       "         [0.00299885, 0.00292195, 0.00262976]]],\n",
       "\n",
       "\n",
       "       [[[0.00352172, 0.00352172, 0.00367551],\n",
       "         [0.00362937, 0.00364475, 0.00379854],\n",
       "         [0.00359862, 0.00362937, 0.00379854],\n",
       "         ...,\n",
       "         [0.00333718, 0.00336794, 0.00358324],\n",
       "         [0.00339869, 0.00342945, 0.00359862],\n",
       "         [0.00341407, 0.00342945, 0.00358324]],\n",
       "\n",
       "        [[0.00341407, 0.00339869, 0.00352172],\n",
       "         [0.00367551, 0.00367551, 0.0038293 ],\n",
       "         [0.00358324, 0.00359862, 0.00378316],\n",
       "         ...,\n",
       "         [0.00342945, 0.00342945, 0.00362937],\n",
       "         [0.00349097, 0.00350634, 0.00366013],\n",
       "         [0.00322953, 0.00324491, 0.00338331]],\n",
       "\n",
       "        [[0.00327566, 0.00316801, 0.00324491],\n",
       "         [0.00359862, 0.00356786, 0.00367551],\n",
       "         [0.00355248, 0.00358324, 0.0037524 ],\n",
       "         ...,\n",
       "         [0.00338331, 0.00338331, 0.00356786],\n",
       "         [0.00338331, 0.00336794, 0.00356786],\n",
       "         [0.0031065 , 0.00312188, 0.00330642]],\n",
       "\n",
       "        ...,\n",
       "\n",
       "        [[0.00230681, 0.00219915, 0.00207612],\n",
       "         [0.00215302, 0.00207612, 0.00195309],\n",
       "         [0.00202999, 0.00195309, 0.00184544],\n",
       "         ...,\n",
       "         [0.00344483, 0.00341407, 0.00335256],\n",
       "         [0.0035371 , 0.00350634, 0.00346021],\n",
       "         [0.00370627, 0.00370627, 0.00366013]],\n",
       "\n",
       "        [[0.00210688, 0.00202999, 0.00193772],\n",
       "         [0.00199923, 0.00195309, 0.00184544],\n",
       "         [0.00192234, 0.00186082, 0.00176855],\n",
       "         ...,\n",
       "         [0.00278354, 0.00276817, 0.00273741],\n",
       "         [0.0031065 , 0.00309112, 0.00304498],\n",
       "         [0.00326028, 0.00324491, 0.00318339]],\n",
       "\n",
       "        [[0.0018762 , 0.00183007, 0.00175317],\n",
       "         [0.00181469, 0.00178393, 0.00169166],\n",
       "         [0.00184544, 0.00178393, 0.00170704],\n",
       "         ...,\n",
       "         [0.00275279, 0.00272203, 0.00266052],\n",
       "         [0.00252211, 0.00252211, 0.00249135],\n",
       "         [0.00250673, 0.00250673, 0.00247597]]]])"
      ]
     },
     "execution_count": 37,
     "metadata": {},
     "output_type": "execute_result"
    }
   ],
   "source": [
    "X_train=X_train/255\n",
    "X_test=X_test/255\n",
    "X_train"
   ]
  },
  {
   "cell_type": "code",
   "execution_count": 44,
   "metadata": {},
   "outputs": [
    {
     "name": "stdout",
     "output_type": "stream",
     "text": [
      "Epoch 1/5\n",
      "1563/1563 [==============================] - 116s 74ms/step - loss: 2.3019 - accuracy: 0.1238\n",
      "Epoch 2/5\n",
      "1563/1563 [==============================] - 109s 70ms/step - loss: 2.3015 - accuracy: 0.1506\n",
      "Epoch 3/5\n",
      "1563/1563 [==============================] - 108s 69ms/step - loss: 2.3013 - accuracy: 0.1476\n",
      "Epoch 4/5\n",
      "1563/1563 [==============================] - 117s 75ms/step - loss: 2.3011 - accuracy: 0.1344\n",
      "Epoch 5/5\n",
      "1563/1563 [==============================] - 104s 66ms/step - loss: 2.3009 - accuracy: 0.1527\n"
     ]
    },
    {
     "data": {
      "text/plain": [
       "<tensorflow.python.keras.callbacks.History at 0x272f8227df0>"
      ]
     },
     "execution_count": 44,
     "metadata": {},
     "output_type": "execute_result"
    }
   ],
   "source": [
    "ann=models.Sequential([\n",
    "    layers.Flatten(input_shape=(32,32,3)),\n",
    "    layers.Dense(3000, activation='relu'),\n",
    "    layers.Dense(1000, activation='relu'),\n",
    "    layers.Dense(10, activation='sigmoid')\n",
    "])\n",
    "\n",
    "ann.compile(optimizer='SGD', loss='sparse_categorical_crossentropy', metrics=['accuracy'])\n",
    "ann.fit(X_train, y_train, epochs=5)"
   ]
  },
  {
   "cell_type": "code",
   "execution_count": 45,
   "metadata": {},
   "outputs": [
    {
     "name": "stdout",
     "output_type": "stream",
     "text": [
      "313/313 [==============================] - 7s 23ms/step - loss: 2.3007 - accuracy: 0.1537\n"
     ]
    },
    {
     "data": {
      "text/plain": [
       "[2.3007285594940186, 0.15369999408721924]"
      ]
     },
     "execution_count": 45,
     "metadata": {},
     "output_type": "execute_result"
    }
   ],
   "source": [
    "ann.evaluate(X_test, y_test)"
   ]
  },
  {
   "cell_type": "code",
   "execution_count": 47,
   "metadata": {},
   "outputs": [
    {
     "name": "stdout",
     "output_type": "stream",
     "text": [
      "Classification Report:\n",
      "               precision    recall  f1-score   support\n",
      "\n",
      "           0       0.15      0.87      0.25      1000\n",
      "           1       0.00      0.00      0.00      1000\n",
      "           2       0.00      0.00      0.00      1000\n",
      "           3       0.33      0.00      0.00      1000\n",
      "           4       0.40      0.01      0.02      1000\n",
      "           5       0.16      0.42      0.23      1000\n",
      "           6       0.00      0.00      0.00      1000\n",
      "           7       0.16      0.24      0.19      1000\n",
      "           8       0.00      0.00      0.00      1000\n",
      "           9       0.00      0.00      0.00      1000\n",
      "\n",
      "    accuracy                           0.15     10000\n",
      "   macro avg       0.12      0.15      0.07     10000\n",
      "weighted avg       0.12      0.15      0.07     10000\n",
      "\n"
     ]
    },
    {
     "name": "stderr",
     "output_type": "stream",
     "text": [
      "C:\\ProgramData\\Anaconda3\\lib\\site-packages\\sklearn\\metrics\\_classification.py:1221: UndefinedMetricWarning: Precision and F-score are ill-defined and being set to 0.0 in labels with no predicted samples. Use `zero_division` parameter to control this behavior.\n",
      "  _warn_prf(average, modifier, msg_start, len(result))\n"
     ]
    }
   ],
   "source": [
    "from sklearn.metrics import confusion_matrix, classification_report\n",
    "import numpy as np\n",
    "y_pred=ann.predict(X_test)\n",
    "y_pred_classes=[np.argmax(element) for element in y_pred]\n",
    "\n",
    "print('Classification Report:\\n', classification_report(y_test, y_pred_classes))"
   ]
  },
  {
   "cell_type": "code",
   "execution_count": 51,
   "metadata": {},
   "outputs": [
    {
     "name": "stdout",
     "output_type": "stream",
     "text": [
      "Epoch 1/10\n",
      "1563/1563 [==============================] - 59s 37ms/step - loss: 2.0639 - accuracy: 0.2422\n",
      "Epoch 2/10\n",
      "1563/1563 [==============================] - 64s 41ms/step - loss: 1.8138 - accuracy: 0.3490\n",
      "Epoch 3/10\n",
      "1563/1563 [==============================] - 61s 39ms/step - loss: 1.6894 - accuracy: 0.3898\n",
      "Epoch 4/10\n",
      "1563/1563 [==============================] - 57s 37ms/step - loss: 1.6209 - accuracy: 0.4151\n",
      "Epoch 5/10\n",
      "1563/1563 [==============================] - 51s 33ms/step - loss: 1.5731 - accuracy: 0.4339\n",
      "Epoch 6/10\n",
      "1563/1563 [==============================] - 61s 39ms/step - loss: 1.5380 - accuracy: 0.4488\n",
      "Epoch 7/10\n",
      "1563/1563 [==============================] - 55s 35ms/step - loss: 1.5071 - accuracy: 0.4585\n",
      "Epoch 8/10\n",
      "1563/1563 [==============================] - 52s 33ms/step - loss: 1.4692 - accuracy: 0.4739\n",
      "Epoch 9/10\n",
      "1563/1563 [==============================] - 56s 36ms/step - loss: 1.4392 - accuracy: 0.48450s - loss: 1.4388 - accu - ETA: 0s - loss: 1.4391 - accuracy: 0.\n",
      "Epoch 10/10\n",
      "1563/1563 [==============================] - 45s 29ms/step - loss: 1.4178 - accuracy: 0.4917\n"
     ]
    },
    {
     "data": {
      "text/plain": [
       "<tensorflow.python.keras.callbacks.History at 0x272f7ec4c70>"
      ]
     },
     "execution_count": 51,
     "metadata": {},
     "output_type": "execute_result"
    }
   ],
   "source": [
    "cnn=models.Sequential([\n",
    "    layers.Conv2D(filters=32, kernel_size=(3,3), activation='relu', input_shape=(32,32,3)),\n",
    "    layers.MaxPooling2D((2,2)),\n",
    "    \n",
    "    layers.Conv2D(filters=64, kernel_size=(3,3), activation='relu', input_shape=(32,32,3)),\n",
    "    layers.MaxPooling2D((2,2)),\n",
    "    \n",
    "    layers.Flatten(),\n",
    "    layers.Dense(64, activation='relu'),\n",
    "    layers.Dense(10, activation='softmax')\n",
    "    \n",
    "])\n",
    "\n",
    "cnn.compile(optimizer='adam', loss='sparse_categorical_crossentropy', metrics=['accuracy'])\n",
    "cnn.fit(X_train, y_train, epochs=10)"
   ]
  },
  {
   "cell_type": "code",
   "execution_count": 53,
   "metadata": {},
   "outputs": [
    {
     "name": "stdout",
     "output_type": "stream",
     "text": [
      "313/313 [==============================] - 3s 8ms/step - loss: 1.4355 - accuracy: 0.4857\n"
     ]
    },
    {
     "data": {
      "text/plain": [
       "[1.4355486631393433, 0.48570001125335693]"
      ]
     },
     "execution_count": 53,
     "metadata": {},
     "output_type": "execute_result"
    }
   ],
   "source": [
    "cnn.evaluate(X_test, y_test)"
   ]
  },
  {
   "cell_type": "code",
   "execution_count": 54,
   "metadata": {},
   "outputs": [
    {
     "data": {
      "text/plain": [
       "(10000, 1)"
      ]
     },
     "execution_count": 54,
     "metadata": {},
     "output_type": "execute_result"
    }
   ],
   "source": [
    "y_test.shape"
   ]
  },
  {
   "cell_type": "code",
   "execution_count": 55,
   "metadata": {},
   "outputs": [
    {
     "data": {
      "text/plain": [
       "array([[3],\n",
       "       [8],\n",
       "       [8],\n",
       "       [0],\n",
       "       [6]], dtype=uint8)"
      ]
     },
     "execution_count": 55,
     "metadata": {},
     "output_type": "execute_result"
    }
   ],
   "source": [
    "y_test[:5]"
   ]
  },
  {
   "cell_type": "code",
   "execution_count": 58,
   "metadata": {},
   "outputs": [
    {
     "data": {
      "text/plain": [
       "array([3, 8, 8, 0, 6], dtype=uint8)"
      ]
     },
     "execution_count": 58,
     "metadata": {},
     "output_type": "execute_result"
    }
   ],
   "source": [
    "y_test= y_test.reshape(-1,)\n",
    "y_test[:5]"
   ]
  },
  {
   "cell_type": "code",
   "execution_count": 61,
   "metadata": {},
   "outputs": [
    {
     "data": {
      "image/png": "[encoded data removed]",
      "text/plain": [
       "<Figure size 1080x144 with 1 Axes>"
      ]
     },
     "metadata": {
      "needs_background": "light"
     },
     "output_type": "display_data"
    }
   ],
   "source": [
    "plot_sample(X_test, y_test, 4)"
   ]
  },
  {
   "cell_type": "code",
   "execution_count": 64,
   "metadata": {},
   "outputs": [
    {
     "data": {
      "text/plain": [
       "array([[3.14806332e-03, 6.12902222e-03, 6.77718446e-02, 4.78925377e-01,\n",
       "        3.92541848e-02, 2.58859426e-01, 1.24940708e-01, 9.15090367e-03,\n",
       "        8.13172478e-03, 3.68879386e-03],\n",
       "       [1.76762924e-01, 2.83114016e-01, 1.69828138e-03, 1.28077099e-03,\n",
       "        2.41927663e-03, 4.03770886e-04, 2.02607698e-04, 9.67743341e-04,\n",
       "        3.56667787e-01, 1.76482841e-01],\n",
       "       [7.88015723e-02, 1.61857113e-01, 5.61125763e-03, 4.68267966e-03,\n",
       "        5.33223478e-03, 1.10699260e-03, 1.50540296e-03, 1.20735599e-03,\n",
       "        6.15934491e-01, 1.23960905e-01],\n",
       "       [2.14763060e-01, 9.82125178e-02, 1.30921323e-02, 7.15627568e-03,\n",
       "        1.64500885e-02, 1.61271216e-03, 1.19002154e-02, 4.27767774e-03,\n",
       "        6.06036484e-01, 2.64987834e-02],\n",
       "       [4.11486346e-03, 6.16441830e-04, 1.28421068e-01, 1.42833054e-01,\n",
       "        2.89495975e-01, 9.52922180e-02, 2.90092915e-01, 4.62212898e-02,\n",
       "        2.40618200e-03, 5.05979988e-04]], dtype=float32)"
      ]
     },
     "execution_count": 64,
     "metadata": {},
     "output_type": "execute_result"
    }
   ],
   "source": [
    "y_pred=cnn.predict(X_test)\n",
    "y_pred[:5]"
   ]
  },
  {
   "cell_type": "code",
   "execution_count": 66,
   "metadata": {},
   "outputs": [],
   "source": [
    "y_classes= [np.argmax(element) for element in y_pred]"
   ]
  },
  {
   "cell_type": "code",
   "execution_count": 67,
   "metadata": {},
   "outputs": [
    {
     "data": {
      "text/plain": [
       "[3, 8, 8, 8, 6, 6, 3, 6, 5, 1]"
      ]
     },
     "execution_count": 67,
     "metadata": {},
     "output_type": "execute_result"
    }
   ],
   "source": [
    "y_classes[:10]"
   ]
  },
  {
   "cell_type": "code",
   "execution_count": 68,
   "metadata": {},
   "outputs": [
    {
     "data": {
      "text/plain": [
       "array([3, 8, 8, 0, 6, 6, 1, 6, 3, 1], dtype=uint8)"
      ]
     },
     "execution_count": 68,
     "metadata": {},
     "output_type": "execute_result"
    }
   ],
   "source": [
    "y_test[:10]"
   ]
  },
  {
   "cell_type": "code",
   "execution_count": 69,
   "metadata": {},
   "outputs": [
    {
     "data": {
      "image/png": "[encoded data removed]",
      "text/plain": [
       "<Figure size 1080x144 with 1 Axes>"
      ]
     },
     "metadata": {
      "needs_background": "light"
     },
     "output_type": "display_data"
    }
   ],
   "source": [
    "plot_sample(X_test, y_test, 2)"
   ]
  },
  {
   "cell_type": "code",
   "execution_count": 70,
   "metadata": {},
   "outputs": [
    {
     "data": {
      "text/plain": [
       "'ship'"
      ]
     },
     "execution_count": 70,
     "metadata": {},
     "output_type": "execute_result"
    }
   ],
   "source": [
    "classes[y_classes[2]]"
   ]
  },
  {
   "cell_type": "code",
   "execution_count": 71,
   "metadata": {},
   "outputs": [
    {
     "data": {
      "image/png": "[encoded data removed]",
      "text/plain": [
       "<Figure size 1080x144 with 1 Axes>"
      ]
     },
     "metadata": {
      "needs_background": "light"
     },
     "output_type": "display_data"
    }
   ],
   "source": [
    "plot_sample(X_test, y_test, 5)"
   ]
  },
  {
   "cell_type": "code",
   "execution_count": 72,
   "metadata": {},
   "outputs": [
    {
     "data": {
      "text/plain": [
       "'frog'"
      ]
     },
     "execution_count": 72,
     "metadata": {},
     "output_type": "execute_result"
    }
   ],
   "source": [
    "classes[y_classes[5]]"
   ]
  },
  {
   "cell_type": "code",
   "execution_count": 75,
   "metadata": {},
   "outputs": [
    {
     "data": {
      "image/png": "[encoded data removed]",
      "text/plain": [
       "<Figure size 1080x144 with 1 Axes>"
      ]
     },
     "metadata": {
      "needs_background": "light"
     },
     "output_type": "display_data"
    }
   ],
   "source": [
    "plot_sample(X_test, y_test, 10)"
   ]
  },
  {
   "cell_type": "code",
   "execution_count": 77,
   "metadata": {},
   "outputs": [
    {
     "data": {
      "text/plain": [
       "'ship'"
      ]
     },
     "execution_count": 77,
     "metadata": {},
     "output_type": "execute_result"
    }
   ],
   "source": [
    "classes[y_classes[10]]"
   ]
  },
  {
   "cell_type": "code",
   "execution_count": 79,
   "metadata": {},
   "outputs": [
    {
     "name": "stdout",
     "output_type": "stream",
     "text": [
      "Classification Report:\n",
      "               precision    recall  f1-score   support\n",
      "\n",
      "           0       0.61      0.52      0.56      1000\n",
      "           1       0.70      0.47      0.56      1000\n",
      "           2       0.37      0.39      0.38      1000\n",
      "           3       0.33      0.27      0.30      1000\n",
      "           4       0.44      0.36      0.39      1000\n",
      "           5       0.43      0.42      0.43      1000\n",
      "           6       0.44      0.68      0.53      1000\n",
      "           7       0.51      0.56      0.54      1000\n",
      "           8       0.53      0.70      0.61      1000\n",
      "           9       0.56      0.48      0.52      1000\n",
      "\n",
      "    accuracy                           0.49     10000\n",
      "   macro avg       0.49      0.49      0.48     10000\n",
      "weighted avg       0.49      0.49      0.48     10000\n",
      "\n"
     ]
    }
   ],
   "source": [
    "print('Classification Report:\\n', classification_report(y_test, y_classes))"
   ]
  },
  {
   "cell_type": "code",
   "execution_count": null,
   "metadata": {},
   "outputs": [],
   "source": []
  }
 ],
 "metadata": {
  "kernelspec": {
   "display_name": "Python 3",
   "language": "python",
   "name": "python3"
  },
  "language_info": {
   "codemirror_mode": {
    "name": "ipython",
    "version": 3
   },
   "file_extension": ".py",
   "mimetype": "text/x-python",
   "name": "python",
   "nbconvert_exporter": "python",
   "pygments_lexer": "ipython3",
   "version": "3.8.3"
  }
 },
 "nbformat": 4,
 "nbformat_minor": 4
}
